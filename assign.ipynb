{
 "cells": [
  {
   "cell_type": "code",
   "execution_count": 3,
   "metadata": {},
   "outputs": [
    {
     "name": "stdout",
     "output_type": "stream",
     "text": [
      "3\n"
     ]
    }
   ],
   "source": [
    "##1.\tWrite python program to add two numbers.\n",
    "a=int(input('Enter First Number'))\n",
    "b=int(input('Enter Second Number'))\n",
    "c=a+b\n",
    "print(c)"
   ]
  },
  {
   "cell_type": "code",
   "execution_count": 4,
   "metadata": {},
   "outputs": [
    {
     "name": "stdout",
     "output_type": "stream",
     "text": [
      "6 5\n"
     ]
    }
   ],
   "source": [
    "##2.Write a python program to swap two variables\n",
    "a=5\n",
    "b=6\n",
    "a,b=b,a\n",
    "print(a,b)"
   ]
  },
  {
   "cell_type": "code",
   "execution_count": 5,
   "metadata": {},
   "outputs": [
    {
     "name": "stdout",
     "output_type": "stream",
     "text": [
      "1.4142135623730951\n"
     ]
    }
   ],
   "source": [
    "##3.\tWrite a python program to compute square root of a number\n",
    "a=int(input('Enter a number'))\n",
    "b=a**0.5\n",
    "print(b)"
   ]
  },
  {
   "cell_type": "code",
   "execution_count": 8,
   "metadata": {},
   "outputs": [
    {
     "name": "stdout",
     "output_type": "stream",
     "text": [
      "Odd\n"
     ]
    }
   ],
   "source": [
    "##4.\tWrite a python program to check whether a number is even or odd.\n",
    "a=int(input('Enter a number'))\n",
    "if a%2!=0:\n",
    "    print('Odd')\n",
    "else:\n",
    "    print ('Even')"
   ]
  },
  {
   "cell_type": "code",
   "execution_count": 17,
   "metadata": {},
   "outputs": [
    {
     "name": "stdout",
     "output_type": "stream",
     "text": [
      "Yes\n"
     ]
    }
   ],
   "source": [
    "##5.\tWrite a python program to find whether a 3-digit number is Amstrong or not\n",
    "a = int(input('Enter a number'))\n",
    "aa = str(a)\n",
    "lenn = len(aa)\n",
    "count = 0\n",
    "for i in range(lenn):\n",
    "    count +=  int(aa[i]) ** lenn\n",
    "if count == a :\n",
    "    print(\"Armstrong\")\n",
    "else:\n",
    "    print('Not Armstrong')\n"
   ]
  },
  {
   "cell_type": "code",
   "execution_count": 25,
   "metadata": {},
   "outputs": [
    {
     "name": "stdout",
     "output_type": "stream",
     "text": [
      "Prime\n"
     ]
    }
   ],
   "source": [
    "##6.\tWrite a python program to check if a given number is prime or not.\n",
    "from math import sqrt\n",
    "num=int(input('Enter a number'))\n",
    "for i in range(2, int(sqrt(num)) + 1):\n",
    "    if num % i == 0:\n",
    "        print(\"Not Prime\")\n",
    "        break\n",
    "    print(\"Prime\")"
   ]
  },
  {
   "cell_type": "code",
   "execution_count": 6,
   "metadata": {},
   "outputs": [
    {
     "name": "stdout",
     "output_type": "stream",
     "text": [
      "Yes\n"
     ]
    }
   ],
   "source": [
    "##7.\tWrite a python program to read a string containing 5 characters and find if any character is repeated and print output as ‘YES’ or ‘NO’\n",
    "def hasRepeatedChars(s):\n",
    "    for i in range(len(s)):\n",
    "        if i != s.rfind(s[i]):\n",
    "            return True\n",
    "    return False\n",
    "s=input()\n",
    "if hasRepeatedChars(s)==True:\n",
    "    print('Yes')\n",
    "else:\n",
    "    print('No')"
   ]
  },
  {
   "cell_type": "code",
   "execution_count": 7,
   "metadata": {},
   "outputs": [
    {
     "name": "stdout",
     "output_type": "stream",
     "text": [
      "65\n"
     ]
    }
   ],
   "source": [
    "##8.\tWrite a program to find the ASCII value of a given character.\n",
    "a=input()\n",
    "b=ord(a)\n",
    "print(b)"
   ]
  },
  {
   "cell_type": "code",
   "execution_count": 10,
   "metadata": {},
   "outputs": [
    {
     "name": "stdout",
     "output_type": "stream",
     "text": [
      "Enter Details of student No. 1\n",
      "Enter Details of student No. 2\n",
      "{1: ['kk', 55], 2: ['ll', 66]}\n",
      "60.5\n"
     ]
    }
   ],
   "source": [
    "##9.\tWrite a python program to compute average grade of students and print the average grade in the student dictionary using function. (create student dictionary).\n",
    "n = int(input(\"Enter number of students: \"))  \n",
    "result = {}\n",
    "for i in range(n):  \n",
    "   print(\"Enter Details of student No.\", i+1)  \n",
    "   rno = int(input(\"Roll No: \"))  \n",
    "   name = input(\"Name: \")  \n",
    "   marks = int(input(\"Marks: \"))  \n",
    "   result[rno] = [name, marks]    \n",
    "print(result)  \n",
    "# Mean of marks of students  \n",
    "sum=0\n",
    "for student in result:  \n",
    "    sum+=result[student][1]\n",
    "avg=sum/n\n",
    "print(avg) "
   ]
  },
  {
   "cell_type": "code",
   "execution_count": 27,
   "metadata": {},
   "outputs": [
    {
     "name": "stdout",
     "output_type": "stream",
     "text": [
      "Students Record\n"
     ]
    }
   ],
   "source": [
    "##10.\tWrite a python program to create module Student (include average grade function and print Record function), import the module and print the student record.\n",
    "import student as s\n",
    "s.printrec()"
   ]
  },
  {
   "cell_type": "code",
   "execution_count": 11,
   "metadata": {},
   "outputs": [
    {
     "name": "stdout",
     "output_type": "stream",
     "text": [
      "gckghcuuvyylvikhhbh\n",
      "\n"
     ]
    }
   ],
   "source": [
    "##11.\tWrite a program to read 20 bytes of data from a text file and display it.\n",
    "f=open('Hi.txt','r')\n",
    "c=f.read(20)\n",
    "print(c)"
   ]
  },
  {
   "cell_type": "code",
   "execution_count": 15,
   "metadata": {},
   "outputs": [],
   "source": [
    "##12.\tWrite a program to add content to the same text file.\n",
    "f=open('Hi.txt','a')\n",
    "f.write(\"hehehe\")\n",
    "f.close()"
   ]
  },
  {
   "cell_type": "code",
   "execution_count": 16,
   "metadata": {},
   "outputs": [
    {
     "name": "stdout",
     "output_type": "stream",
     "text": [
      "dog barking\n",
      "Animal Speaking\n"
     ]
    }
   ],
   "source": [
    "##13.\tWrite a program to show the inheritance of a class.\n",
    "class Animal:  \n",
    "    def speak(self):  \n",
    "        print(\"Animal Speaking\")  \n",
    "#child class Dog inherits the base class Animal  \n",
    "class Dog(Animal):  \n",
    "    def bark(self):  \n",
    "        print(\"dog barking\")  \n",
    "d = Dog()  \n",
    "d.bark()  \n",
    "d.speak()  "
   ]
  },
  {
   "cell_type": "code",
   "execution_count": 25,
   "metadata": {},
   "outputs": [
    {
     "name": "stdout",
     "output_type": "stream",
     "text": [
      "HarishKumar\n"
     ]
    }
   ],
   "source": [
    "##14.\tWrite a program to concatenate first name and last name of student1 in a class Student.\n",
    "class student:\n",
    "    student1_fn=\"Harish\"\n",
    "    student2_fn=\"Suresh\"\n",
    "    student1_ln=\"Kumar\"\n",
    "    student2_ln=\"Singh\"\n",
    "g=student()\n",
    "print(g.student1_fn+g.student1_ln)\n"
   ]
  },
  {
   "cell_type": "code",
   "execution_count": 26,
   "metadata": {},
   "outputs": [
    {
     "name": "stdout",
     "output_type": "stream",
     "text": [
      "HarishKumar\n",
      "SureshSingh\n"
     ]
    }
   ],
   "source": [
    "##15.\tWrite a program to concatenate first name and last name of all students (student1 and student2) in a class student\n",
    "class student:\n",
    "    student1_fn=\"Harish\"\n",
    "    student2_fn=\"Suresh\"\n",
    "    student1_ln=\"Kumar\"\n",
    "    student2_ln=\"Singh\"\n",
    "g=student()\n",
    "print(g.student1_fn+g.student1_ln+'\\n'+g.student2_fn+g.student2_ln)"
   ]
  }
 ],
 "metadata": {
  "interpreter": {
   "hash": "38740d3277777e2cd7c6c2cc9d8addf5118fdf3f82b1b39231fd12aeac8aee8b"
  },
  "kernelspec": {
   "display_name": "Python 3.10.1 64-bit",
   "language": "python",
   "name": "python3"
  },
  "language_info": {
   "codemirror_mode": {
    "name": "ipython",
    "version": 3
   },
   "file_extension": ".py",
   "mimetype": "text/x-python",
   "name": "python",
   "nbconvert_exporter": "python",
   "pygments_lexer": "ipython3",
   "version": "3.10.1"
  },
  "orig_nbformat": 4
 },
 "nbformat": 4,
 "nbformat_minor": 2
}
